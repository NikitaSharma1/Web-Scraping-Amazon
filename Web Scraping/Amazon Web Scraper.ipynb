{
 "cells": [
  {
   "cell_type": "markdown",
   "metadata": {},
   "source": [
    "# AMAZON WEB SCRAPER\n"
   ]
  },
  {
   "cell_type": "code",
   "execution_count": 18,
   "metadata": {},
   "outputs": [],
   "source": [
    "import csv\n",
    "from bs4 import BeautifulSoup\n",
    "from selenium import webdriver\n",
    "import re\n",
    "\n",
    "def get_url(search_term):\n",
    "    #Generate a url for search term\n",
    "    template ='https://www.amazon.in/s?k={}&ref=nb_sb_noss_2'\n",
    "    search_term = search_term.replace(' ','+')\n",
    "    \n",
    "    url= template.format(search_term)\n",
    "    \n",
    "    url += '&page{}'\n",
    "    \n",
    "    return url\n",
    "\n",
    "\n",
    "\n",
    "def extract_record(item):\n",
    "    \n",
    "    #product description\n",
    "    \n",
    "    atag=item.h2.a\n",
    "    tag=atag.text\n",
    "    product_name = atag.text.split('(')[0].strip()\n",
    "    RAM = ''.join(re.findall(\"([0-9]*GB) RAM\", tag))\n",
    "    storage = ''.join(re.findall(\"([0-9]*GB) Storage\", tag))\n",
    "    battery= ''.join(re.findall(\"([0-9]*) mAh\", tag))\n",
    "    url='https://www.amazon.in'+ atag.get('href')\n",
    "        \n",
    "    \n",
    "    #product price \n",
    "    try:\n",
    "        price= item.find('span', 'a-price-whole').text\n",
    "        \n",
    "    except AttributeError:\n",
    "        price = None\n",
    "        \n",
    "    #product rating and reviews\n",
    "    try:\n",
    "        rating_string=item.i.text.strip()\n",
    "        rating=''.join(re.findall(\"([0-9].*) out\", rating_string))\n",
    "        review=item.find('span','a-size-base').text.split(\",\")\n",
    "        review=\"\".join(review)\n",
    "        if review.isdigit():\n",
    "            review_count= review\n",
    "        else:\n",
    "            review_count=0\n",
    "        \n",
    "    except AttributeError:\n",
    "        rating= None\n",
    "        review_count= 0\n",
    "\n",
    "    result= (product_name, RAM, storage, battery, price, rating, review_count, url) \n",
    "    \n",
    "    return result\n",
    "\n",
    "\n",
    "def main(search_term):\n",
    "    driver = webdriver.Chrome(\"C:\\Program Files\\chromedriver\") \n",
    "    records=[]\n",
    "    url= get_url(search_term)\n",
    "    \n",
    "    for page in range(1,21):\n",
    "        driver.get(url.format(page))\n",
    "        soup = BeautifulSoup( driver.page_source, 'html.parser')\n",
    "        results= soup.find_all('div', {'data-component-type': 's-search-result'})\n",
    "        \n",
    "        for item in results:\n",
    "            record = extract_record(item)\n",
    "            if record:\n",
    "                records.append(record)\n",
    "    driver.close()\n",
    "    \n",
    "    \n",
    "    with open('Mobiles over 30000.csv','w',newline='',encoding='utf-8') as f:\n",
    "        writer = csv.writer(f)\n",
    "        writer.writerow(['Product Name','RAM','Storage','Battery(mAh)','Price','Rating','Review Count','URL'])\n",
    "        writer.writerows(records)\n",
    "        "
   ]
  },
  {
   "cell_type": "code",
   "execution_count": 19,
   "metadata": {},
   "outputs": [],
   "source": [
    "main('Mobiles over 30000')"
   ]
  },
  {
   "cell_type": "code",
   "execution_count": null,
   "metadata": {},
   "outputs": [],
   "source": []
  }
 ],
 "metadata": {
  "kernelspec": {
   "display_name": "Python 3",
   "language": "python",
   "name": "python3"
  },
  "language_info": {
   "codemirror_mode": {
    "name": "ipython",
    "version": 3
   },
   "file_extension": ".py",
   "mimetype": "text/x-python",
   "name": "python",
   "nbconvert_exporter": "python",
   "pygments_lexer": "ipython3",
   "version": "3.8.5"
  }
 },
 "nbformat": 4,
 "nbformat_minor": 4
}
